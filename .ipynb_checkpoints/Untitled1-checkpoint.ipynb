{
 "cells": [
  {
   "cell_type": "code",
   "execution_count": 3,
   "id": "11611882",
   "metadata": {},
   "outputs": [],
   "source": [
    "import pandas as pd\n",
    "import math\n",
    "from collections import defaultdict\n",
    "from functools import cmp_to_key\n",
    "import itertools\n",
    "import statsmodels.stats.multitest as multi\n",
    "\n",
    "def isNaN(string):\n",
    "    return string != string\n"
   ]
  },
  {
   "cell_type": "code",
   "execution_count": null,
   "id": "c2f03048",
   "metadata": {},
   "outputs": [],
   "source": [
    "\n",
    "fname = r'/Users/Dasha/work/UMCG/data/MR/results2/AA_T2D/manuscript/rebuttal/MR_results_rebuttal4.xlsx'\n",
    "sh1 = 'pheno-BCAA_rm_BMI_SNPs'\n",
    "sh2 = 'pheno-bcaa'\n",
    "#sh1 = \"UKB-mb\"\n",
    "#sh2 = \"mb-UKB\"\n",
    "df1 = pd.read_excel (fname, sheet_name=sh1)\n",
    "df2 = pd.read_excel (fname, sheet_name=sh2)\n",
    "df1['exposure'] = [x for (x,y) in df1['exposure'].str.split(\" \\|\\| \").to_list()]\n",
    "df2['outcome'] = [x for (x,y) in df2['outcome'].str.split(\" \\|\\| \").to_list()]\n",
    "\n",
    "df1['tmp'] = df1['id.exposure'] + \":\" + df1['outcome']\n",
    "df2['tmp'] = df2['id.outcome'] + \":\" + df2['exposure']\n",
    "\n",
    "df1new = pd.merge(df1, df2[['tmp', 'pval']], on ='tmp', how ='left')\n",
    "df1new.rename(columns = {\"pval_x\" : \"pval\", \"pval_y\" : \"reverse_MR_pval\"}, inplace=True)\n",
    "\n",
    "df2new = pd.merge(df2, df1[['tmp', 'pval']], on ='tmp', how ='left')\n",
    "df2new.rename(columns = {\"pval_x\" : \"pval\", \"pval_y\" : \"reverse_MR_pval\"}, inplace=True)\n",
    "\n",
    "df1new.drop('tmp', inplace=True, axis=1)\n",
    "df2new.drop('tmp', inplace=True, axis=1)\n"
   ]
  },
  {
   "cell_type": "code",
   "execution_count": 20,
   "id": "4468b62e",
   "metadata": {},
   "outputs": [],
   "source": [
    "\n",
    "# Write all filters that failed into one field\n",
    "def get_failed_flts(row):\n",
    "    flt_line = \"-\"\n",
    "    if int(row['nsnp']) < 3:\n",
    "        flt_line += ';Number of SNPs'\n",
    "    if not isNaN(row['egger_intercept_pval']):\n",
    "        if float(row['egger_intercept_pval']) < 0.05:\n",
    "            flt_line += ';Egger intercept p-value'\n",
    "    if not isNaN(row['weighted_median_pval']):        \n",
    "        if float(row['weighted_median_pval']) > 0.05:\n",
    "            flt_line += ';Weighted median p-value'\n",
    "    if not isNaN(row['mr_presso_global']):        \n",
    "        if not isNaN(row['mr_presso_outlier_cor_pval']):\n",
    "            if row['mr_presso_global'] == '<1e-04':\n",
    "                if float(row['mr_presso_outlier_cor_pval']) > 0.05:\n",
    "                    flt_line += ';MR PRESSO outlier test'\n",
    "            elif float(row['mr_presso_global']) < 0.05 and float(row['mr_presso_outlier_cor_pval']) > 0.05:\n",
    "                flt_line += ';MR PRESSO outlier test'\n",
    "    if not isNaN(row['mr_presso_pval']):\n",
    "        if float(row['mr_presso_pval']) > 0.05:\n",
    "            flt_line += ';MR PRESSO p-value'\n",
    "    # Leave-one-out updated to filter out only cases with exactly 1 p-value > 0.05\n",
    "    loo_pvals = row['leave_one_out_pval']\n",
    "    pval_cnt = 0\n",
    "    if not isNaN(loo_pvals):\n",
    "        for pval in map(float, loo_pvals.split(\",\")):\n",
    "            if pval > 0.05:\n",
    "                pval_cnt += 1\n",
    "        if pval_cnt == 1:\n",
    "            flt_line += ';Leave-one-out analysis'\n",
    "        if not isNaN(row['reverse_MR_pval']):\n",
    "            if float(row['reverse_MR_pval']) < 0.05:\n",
    "                flt_line += ';Reverse MR p-value'\n",
    "    return(flt_line.replace(\"-;\", \"\", 1))\n"
   ]
  },
  {
   "cell_type": "code",
   "execution_count": 21,
   "id": "eac0ae59",
   "metadata": {},
   "outputs": [],
   "source": [
    "\n",
    "df1new['failed_filters'] = df1new.apply (lambda row: get_failed_flts(row), axis=1)\n",
    "df2new['failed_filters'] = df2new.apply (lambda row: get_failed_flts(row), axis=1)\n"
   ]
  },
  {
   "cell_type": "code",
   "execution_count": 22,
   "id": "b67bd9de",
   "metadata": {},
   "outputs": [],
   "source": [
    "\n",
    "# Write the intermediate tables with failed filters column but without removing anything\n",
    "with pd.ExcelWriter(fname, mode='a') as writer:  \n",
    "    df1new.to_excel(writer, sheet_name=sh1+'_all', na_rep = 'NA')\n",
    "    df2new.to_excel(writer, sheet_name=sh2+'_all', na_rep = 'NA')\n"
   ]
  },
  {
   "cell_type": "code",
   "execution_count": 23,
   "id": "7b21d6ba",
   "metadata": {},
   "outputs": [],
   "source": [
    "\n",
    "df1new_flt = df1new[(df1new.nsnp > 2)]\n",
    "df2new_flt = df2new[(df2new.nsnp > 2)]\n",
    "\n",
    "df1new_flt['BH_qval'] = multi.multipletests(df1new_flt['pval'], method = 'fdr_bh')[1]\n",
    "df2new_flt['BH_qval'] = multi.multipletests(df2new_flt['pval'], method = 'fdr_bh')[1]\n",
    "\n",
    "# Write the tables with basic filters and BH correction applied\n",
    "with pd.ExcelWriter(fname, mode='a') as writer:  \n",
    "    df1new_flt.to_excel(writer, sheet_name=sh1+'_flt', na_rep = 'NA')\n",
    "    df2new_flt.to_excel(writer, sheet_name=sh2+'_flt', na_rep = 'NA')\n",
    "\n"
   ]
  },
  {
   "cell_type": "code",
   "execution_count": null,
   "id": "8e9d8c40",
   "metadata": {},
   "outputs": [],
   "source": []
  }
 ],
 "metadata": {
  "kernelspec": {
   "display_name": "Python 3 (ipykernel)",
   "language": "python",
   "name": "python3"
  },
  "language_info": {
   "codemirror_mode": {
    "name": "ipython",
    "version": 3
   },
   "file_extension": ".py",
   "mimetype": "text/x-python",
   "name": "python",
   "nbconvert_exporter": "python",
   "pygments_lexer": "ipython3",
   "version": "3.9.13"
  }
 },
 "nbformat": 4,
 "nbformat_minor": 5
}
